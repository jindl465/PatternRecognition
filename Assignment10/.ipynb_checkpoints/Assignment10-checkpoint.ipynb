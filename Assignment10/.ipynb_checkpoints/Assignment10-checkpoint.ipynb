{
 "cells": [
  {
   "cell_type": "markdown",
   "metadata": {},
   "source": [
    "**20164245 Hong Jin**"
   ]
  },
  {
   "cell_type": "markdown",
   "metadata": {},
   "source": [
    "Build a binary classifier for each digit against all the other digits at MNIST dataset.\n",
    "\n",
    "Let $x = (x_1, x_2, ... , x_m)$ be a vector representing an image in the dataset.\n",
    "\n",
    "The prediction function $f_d(x; w)$ is defined by the linear combination of data (1, x) and the model parameter w for each digit d :\n",
    "$f_d(x; w) = w_0 * 1 + w_1 * x_1 + w_2 * x_2 + ... + w_m * x_m$ \n",
    "where $w = (w_0, w_1, ... , w_m)$\n",
    "\n",
    "The prediction function f_d(x; w) should have the following values:\n",
    "\n",
    "$f_d(x; w) = +1$ if label(x) = d\n",
    "\n",
    "$f_d(x; w) = -1$ if label(x) is not d\n",
    "\n",
    "The optimal model parameter w is obtained by minimizing the following objective function for each digit d :\n",
    "$\\sum_i ( f_d(x^{(i)}); w) - y^{(i)} )^2$\n",
    "\n",
    "and the label of input x is given by:\n",
    "\n",
    "argmax_d $f_d(x; w)$\n",
    "\n",
    "1. Compute an optimal model parameter using the training dataset for each classifier $f_d(x, w)$\n",
    "2. Compute (1) true positive rate, (2) error rate using (1) training dataset and (2) testing dataset."
   ]
  },
  {
   "cell_type": "markdown",
   "metadata": {},
   "source": [
    "# Set up"
   ]
  },
  {
   "cell_type": "code",
   "execution_count": 1,
   "metadata": {},
   "outputs": [],
   "source": [
    "import numpy as np\n",
    "import matplotlib.pyplot as plt\n",
    "from pandas import Series, DataFrame\n",
    "import pandas as pd\n",
    "\n",
    "file_data = \"mnist_train.csv\"\n",
    "handle_file = open(file_data, \"r\")\n",
    "data = handle_file.readlines()\n",
    "handle_file.close()\n",
    "\n",
    "test_file_data = \"mnist_test.csv\"\n",
    "test_handle_file = open(test_file_data, \"r\")\n",
    "test_data = test_handle_file.readlines()\n",
    "test_handle_file.close()\n",
    "\n",
    "size_row = 28\n",
    "size_col = 28\n",
    "dim = size_col * size_row\n",
    "\n",
    "num_image = len(data)\n",
    "test_num_image = len(test_data)"
   ]
  },
  {
   "cell_type": "markdown",
   "metadata": {},
   "source": [
    "# Normalization"
   ]
  },
  {
   "cell_type": "code",
   "execution_count": 2,
   "metadata": {},
   "outputs": [],
   "source": [
    "def normalize(data):\n",
    "    data_normalized = (data-min(data)) / (max(data) - min(data))\n",
    "    return (data_normalized)"
   ]
  },
  {
   "cell_type": "markdown",
   "metadata": {},
   "source": [
    "# Functions"
   ]
  },
  {
   "cell_type": "code",
   "execution_count": 3,
   "metadata": {},
   "outputs": [],
   "source": [
    "def distance(x,y):\n",
    "    d = x - y\n",
    "    s = d ** 2\n",
    "    return s\n",
    "    \n",
    "def check(M,val):\n",
    "    length = len(M)\n",
    "    res = np.zeros((length))\n",
    "    for i in range(length):\n",
    "        if(M[i] == val):\n",
    "            res[i] = 1\n",
    "        else:\n",
    "            res[i] = -1\n",
    "    return res\n",
    "\n",
    "def sign(x):\n",
    "    if(x>=0):\n",
    "        return 1\n",
    "    else:\n",
    "        return -1"
   ]
  },
  {
   "cell_type": "markdown",
   "metadata": {},
   "source": [
    "# Make label, image array with train, test data"
   ]
  },
  {
   "cell_type": "code",
   "execution_count": 4,
   "metadata": {},
   "outputs": [],
   "source": [
    "list_image = np.empty((size_row * size_col, num_image), dtype=float)\n",
    "list_label = np.empty(num_image, dtype=int)\n",
    "test_list_image = np.empty((size_row * size_col, test_num_image), dtype=float)\n",
    "test_list_label = np.empty(test_num_image, dtype=int)\n",
    "count = 0\n",
    "test_count = 0\n",
    "\n",
    "for line in data:\n",
    "    line_data = line.split(',')\n",
    "    label = line_data[0]\n",
    "    im_vector = np.asfarray(line_data[1:])\n",
    "    im_vector = normalize(im_vector)\n",
    "    \n",
    "    list_label[count] = label\n",
    "    list_image[:,count] = im_vector\n",
    "    \n",
    "    count += 1\n",
    "    \n",
    "for test_line in test_data:\n",
    "    test_line_data = test_line.split(',')\n",
    "    test_label = test_line_data[0]\n",
    "    test_im_vector = np.asfarray(test_line_data[1:])\n",
    "    test_im_vector = normalize(test_im_vector)\n",
    "    \n",
    "    test_list_label[test_count] = test_label\n",
    "    test_list_image[:,test_count] = test_im_vector\n",
    "    \n",
    "    test_count += 1\n"
   ]
  },
  {
   "cell_type": "markdown",
   "metadata": {},
   "source": [
    "# Multi-Labeled Images"
   ]
  },
  {
   "cell_type": "code",
   "execution_count": 5,
   "metadata": {},
   "outputs": [],
   "source": [
    "B = []\n",
    "num_class=10\n",
    "num_p=785\n",
    "\n",
    "for i in range(num_class):\n",
    "    B.append(np.matrix(np.transpose(check(list_label, i))))"
   ]
  },
  {
   "cell_type": "markdown",
   "metadata": {},
   "source": [
    "# Define Matrix A"
   ]
  },
  {
   "cell_type": "markdown",
   "metadata": {},
   "source": [
    "$f_i(x) = x^{i-1}, i = 1, \\dots, p$\n",
    "\n",
    "$\\hat{f}(x) = \\theta_1 + \\theta_2 x + \\cdots  + \\theta_p x^{p-1}$\n",
    "\n",
    "$A = \\begin{bmatrix} 1 & x^{(1)} & \\cdots & (x^{(1)})^{p-1} \\\\ 1 & x^{(2)} & \\cdots & (x^{(2)})^{p-1} \\\\ \\vdots & \\vdots & & \\vdots \\\\ 1 & x^{(N)} & \\cdots & (x^{(N)})^{p-1}\\end{bmatrix}$\n",
    "\n",
    "($x^i$ means scalar $x$ to $i$th power; $x^{(i)}$ is $i$th data point)\n",
    "\n",
    "$\\theta = (A^T A)^{-1} A^T b$\n"
   ]
  },
  {
   "cell_type": "code",
   "execution_count": 20,
   "metadata": {},
   "outputs": [
    {
     "ename": "ValueError",
     "evalue": "could not broadcast input array from shape (784,784) into shape (784)",
     "output_type": "error",
     "traceback": [
      "\u001b[1;31m---------------------------------------------------------------------------\u001b[0m",
      "\u001b[1;31mValueError\u001b[0m                                Traceback (most recent call last)",
      "\u001b[1;32m<ipython-input-20-5f13e9a5c15c>\u001b[0m in \u001b[0;36m<module>\u001b[1;34m\u001b[0m\n\u001b[0;32m      1\u001b[0m \u001b[0mR\u001b[0m \u001b[1;33m=\u001b[0m \u001b[0mnp\u001b[0m\u001b[1;33m.\u001b[0m\u001b[0mzeros\u001b[0m\u001b[1;33m(\u001b[0m\u001b[1;33m(\u001b[0m\u001b[0mdim\u001b[0m\u001b[1;33m,\u001b[0m\u001b[0mdim\u001b[0m\u001b[1;33m)\u001b[0m\u001b[1;33m)\u001b[0m\u001b[1;33m\u001b[0m\u001b[1;33m\u001b[0m\u001b[0m\n\u001b[0;32m      2\u001b[0m \u001b[1;32mfor\u001b[0m \u001b[0mi\u001b[0m \u001b[1;32min\u001b[0m \u001b[0mrange\u001b[0m\u001b[1;33m(\u001b[0m\u001b[0mdim\u001b[0m\u001b[1;33m)\u001b[0m\u001b[1;33m:\u001b[0m\u001b[1;33m\u001b[0m\u001b[1;33m\u001b[0m\u001b[0m\n\u001b[1;32m----> 3\u001b[1;33m     \u001b[0mR\u001b[0m\u001b[1;33m[\u001b[0m\u001b[0mi\u001b[0m\u001b[1;33m]\u001b[0m \u001b[1;33m=\u001b[0m \u001b[0mnp\u001b[0m\u001b[1;33m.\u001b[0m\u001b[0mones\u001b[0m\u001b[1;33m(\u001b[0m\u001b[1;33m(\u001b[0m\u001b[0mdim\u001b[0m\u001b[1;33m,\u001b[0m\u001b[0mdim\u001b[0m\u001b[1;33m)\u001b[0m\u001b[1;33m)\u001b[0m\u001b[1;33m\u001b[0m\u001b[1;33m\u001b[0m\u001b[0m\n\u001b[0m\u001b[0;32m      4\u001b[0m \u001b[1;33m\u001b[0m\u001b[0m\n\u001b[0;32m      5\u001b[0m \u001b[1;32mdef\u001b[0m \u001b[0mdefMatrix\u001b[0m\u001b[1;33m(\u001b[0m\u001b[0mx\u001b[0m\u001b[1;33m,\u001b[0m \u001b[0mp\u001b[0m\u001b[1;33m)\u001b[0m\u001b[1;33m:\u001b[0m\u001b[1;33m\u001b[0m\u001b[1;33m\u001b[0m\u001b[0m\n",
      "\u001b[1;31mValueError\u001b[0m: could not broadcast input array from shape (784,784) into shape (784)"
     ]
    }
   ],
   "source": [
    "def defMatrix(x, p):\n",
    "    model = np.zeros((dim,dim))\n",
    "    for i in range(p-1):\n",
    "        model[i+1] = \n",
    "    return np.dot(model,x)"
   ]
  },
  {
   "cell_type": "markdown",
   "metadata": {},
   "source": [
    "# Compute an optimal model parameter using the training dataset"
   ]
  },
  {
   "cell_type": "code",
   "execution_count": 19,
   "metadata": {},
   "outputs": [
    {
     "ename": "MemoryError",
     "evalue": "",
     "output_type": "error",
     "traceback": [
      "\u001b[1;31m---------------------------------------------------------------------------\u001b[0m",
      "\u001b[1;31mMemoryError\u001b[0m                               Traceback (most recent call last)",
      "\u001b[1;32m<ipython-input-19-3f94c6689b9f>\u001b[0m in \u001b[0;36m<module>\u001b[1;34m\u001b[0m\n\u001b[0;32m     11\u001b[0m     \u001b[0mindex\u001b[0m \u001b[1;33m=\u001b[0m \u001b[0mnp\u001b[0m\u001b[1;33m.\u001b[0m\u001b[0mwhere\u001b[0m\u001b[1;33m(\u001b[0m\u001b[1;33m~\u001b[0m\u001b[0mfeature\u001b[0m\u001b[1;33m.\u001b[0m\u001b[0many\u001b[0m\u001b[1;33m(\u001b[0m\u001b[0maxis\u001b[0m\u001b[1;33m=\u001b[0m\u001b[1;36m1\u001b[0m\u001b[1;33m)\u001b[0m\u001b[1;33m)\u001b[0m\u001b[1;33m[\u001b[0m\u001b[1;36m0\u001b[0m\u001b[1;33m]\u001b[0m\u001b[1;33m\u001b[0m\u001b[1;33m\u001b[0m\u001b[0m\n\u001b[0;32m     12\u001b[0m     \u001b[1;31m#A = feature[~np.all(feature == 0, axis=1)\u001b[0m\u001b[1;33m\u001b[0m\u001b[1;33m\u001b[0m\u001b[1;33m\u001b[0m\u001b[0m\n\u001b[1;32m---> 13\u001b[1;33m     \u001b[0mA\u001b[0m \u001b[1;33m=\u001b[0m \u001b[0mdefMatrix\u001b[0m\u001b[1;33m(\u001b[0m\u001b[0mfeature\u001b[0m\u001b[1;33m,\u001b[0m \u001b[0mp\u001b[0m\u001b[1;33m)\u001b[0m\u001b[1;33m\u001b[0m\u001b[1;33m\u001b[0m\u001b[0m\n\u001b[0m\u001b[0;32m     14\u001b[0m     \u001b[1;31m#A = np.transpose(feature)\u001b[0m\u001b[1;33m\u001b[0m\u001b[1;33m\u001b[0m\u001b[1;33m\u001b[0m\u001b[0m\n\u001b[0;32m     15\u001b[0m     \u001b[1;31m#A = np.matrix(np.transpose(A))\u001b[0m\u001b[1;33m\u001b[0m\u001b[1;33m\u001b[0m\u001b[1;33m\u001b[0m\u001b[0m\n",
      "\u001b[1;32m<ipython-input-17-330009715103>\u001b[0m in \u001b[0;36mdefMatrix\u001b[1;34m(x, p)\u001b[0m\n\u001b[0;32m      8\u001b[0m         \u001b[0mmodel\u001b[0m\u001b[1;33m[\u001b[0m\u001b[0mi\u001b[0m\u001b[1;33m]\u001b[0m \u001b[1;33m=\u001b[0m \u001b[0mx\u001b[0m\u001b[1;33m[\u001b[0m\u001b[0mi\u001b[0m\u001b[1;33m]\u001b[0m\u001b[1;33m\u001b[0m\u001b[1;33m\u001b[0m\u001b[0m\n\u001b[0;32m      9\u001b[0m     \u001b[0mmodel\u001b[0m\u001b[1;33m[\u001b[0m\u001b[1;36m0\u001b[0m\u001b[1;33m]\u001b[0m \u001b[1;33m=\u001b[0m \u001b[1;36m1\u001b[0m\u001b[1;33m\u001b[0m\u001b[1;33m\u001b[0m\u001b[0m\n\u001b[1;32m---> 10\u001b[1;33m     \u001b[1;32mreturn\u001b[0m \u001b[0mnp\u001b[0m\u001b[1;33m.\u001b[0m\u001b[0mdot\u001b[0m\u001b[1;33m(\u001b[0m\u001b[0mmodel\u001b[0m\u001b[1;33m,\u001b[0m\u001b[0mx\u001b[0m\u001b[1;33m)\u001b[0m\u001b[1;33m\u001b[0m\u001b[1;33m\u001b[0m\u001b[0m\n\u001b[0m",
      "\u001b[1;31mMemoryError\u001b[0m: "
     ]
    }
   ],
   "source": [
    "scores = np.zeros(785)\n",
    "theta = np.zeros((num_p,num_class,dim))\n",
    "\n",
    "train_set = list_image[:54000]\n",
    "test_set = list_image[54000:]\n",
    "\n",
    "for j in range(784):\n",
    "    p = j\n",
    "    feature = list_image\n",
    "\n",
    "    index = np.where(~feature.any(axis=1))[0]\n",
    "    #A = feature[~np.all(feature == 0, axis=1)\n",
    "    A = defMatrix(feature, p)\n",
    "    #A = np.transpose(feature)\n",
    "    #A = np.matrix(np.transpose(A))\n",
    "\n",
    "    for k in range(num_class):\n",
    "        temp_theta = (A.T * A).I*A.T*B[k].T\n",
    "        count_num = 0\n",
    "    \n",
    "        for i in range(dim):\n",
    "            if i not in index:\n",
    "                theta[j][k][i]=temp_theta[count_num]\n",
    "                count_num +=1\n",
    "            \n",
    "    nums = np.zeros((num_class+1, num_class+1))\n",
    "    dist = 0\n",
    "    min_num = 100000000\n",
    "    \n",
    "    for i in range(count):\n",
    "        prediction = np.argmax(theta[j].dot(feature[:,i]))\n",
    "        answer = list_label[i]\n",
    "        \n",
    "        nums[answer][prediction] += 1\n",
    "        dist += distance(prediction, answer)\n",
    "        \n",
    "    score[j] = dist\n",
    "m = 2**np.argmin(scores)\n",
    "print(\"best = \" + str(m))"
   ]
  },
  {
   "cell_type": "markdown",
   "metadata": {},
   "source": [
    "# Compute Accuracy"
   ]
  },
  {
   "cell_type": "code",
   "execution_count": null,
   "metadata": {},
   "outputs": [],
   "source": [
    "def computeAcc(image, counts, label):\n",
    "    acc_num = np.zeros((10))\n",
    "    nacc_num = np.zeros((10))\n",
    "    total = np.zeros((10))\n",
    "    tp = np.zeros((10))\n",
    "    error = np.zeros((10))\n",
    "    feature = defMatrix(image, m)\n",
    "    \n",
    "    for i in range(counts):\n",
    "        pred = np.argmax(theta[m].dot(feature[:,i]))\n",
    "        answ = label[i]\n",
    "        total[answ] += 1\n",
    "        if(pred == answ):\n",
    "            acc_num[answ] += 1\n",
    "        else:\n",
    "            nacc_num[answ] += 1\n",
    "    \n",
    "    for i in range(10):\n",
    "        tp[i] = acc_num[i] / total[i]\n",
    "        error[i] = nacc_num[i] / total[i]\n",
    "    \n",
    "    return tp, error"
   ]
  },
  {
   "cell_type": "markdown",
   "metadata": {},
   "source": [
    "# Compute (1) True Positive, (2) False Positive, (3) True Negative, (4) False Negative"
   ]
  },
  {
   "cell_type": "markdown",
   "metadata": {},
   "source": [
    "## Training set"
   ]
  },
  {
   "cell_type": "code",
   "execution_count": null,
   "metadata": {},
   "outputs": [],
   "source": [
    "tp, error = computeAcc(list_image, count, list_label)"
   ]
  },
  {
   "cell_type": "code",
   "execution_count": null,
   "metadata": {},
   "outputs": [],
   "source": [
    "data = {'True Positive' : [tp],\n",
    "            'Error' : [error]}\n",
    "frame = DataFrame(data, columns = ['Ture Positive', 'Error'])\n",
    "frame    "
   ]
  },
  {
   "cell_type": "markdown",
   "metadata": {},
   "source": [
    "## Test set"
   ]
  },
  {
   "cell_type": "code",
   "execution_count": null,
   "metadata": {},
   "outputs": [],
   "source": [
    "tp, error = computeAcc(test_list_image, test_count, test_list_label)"
   ]
  },
  {
   "cell_type": "code",
   "execution_count": null,
   "metadata": {},
   "outputs": [],
   "source": [
    "data = {'True Positive' : [tp],\n",
    "            'Error' : [error]}\n",
    "frame = DataFrame(data, columns = ['Ture Positive', 'Error'])\n",
    "frame   "
   ]
  }
 ],
 "metadata": {
  "kernelspec": {
   "display_name": "Python 3",
   "language": "python",
   "name": "python3"
  },
  "language_info": {
   "codemirror_mode": {
    "name": "ipython",
    "version": 3
   },
   "file_extension": ".py",
   "mimetype": "text/x-python",
   "name": "python",
   "nbconvert_exporter": "python",
   "pygments_lexer": "ipython3",
   "version": "3.7.3"
  }
 },
 "nbformat": 4,
 "nbformat_minor": 2
}
