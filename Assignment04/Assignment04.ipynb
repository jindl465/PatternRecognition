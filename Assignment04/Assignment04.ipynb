{
 "cells": [
  {
   "cell_type": "markdown",
   "metadata": {},
   "source": [
    "**20164245 Hong Jin**"
   ]
  },
  {
   "cell_type": "markdown",
   "metadata": {},
   "source": [
    "# Load MNIST traning dataset."
   ]
  },
  {
   "cell_type": "code",
   "execution_count": 1,
   "metadata": {},
   "outputs": [],
   "source": [
    "import matplotlib.pyplot as plt\n",
    "import numpy as np\n",
    "\n",
    "file_data\t\t= \"mnist_train.csv\"\n",
    "handle_file\t= open(file_data, \"r\")\n",
    "data        \t\t= handle_file.readlines()\n",
    "handle_file.close()\n",
    "\n",
    "test_file_data = \"mnist_test.csv\"\n",
    "handle_test_file = open(test_file_data,\"r\")\n",
    "test_data = handle_test_file.readlines()\n",
    "handle_test_file.close()\n",
    "\n",
    "size_row\t= 28    # height of the image\n",
    "size_col  \t= 28    # width of the image\n",
    "dim = size_col * size_row\n",
    "\n",
    "num_image\t= len(data)\n",
    "test_num_image = len(test_data)\n",
    "\n",
    "E = []\n",
    "A = []\n",
    "tA = []"
   ]
  },
  {
   "cell_type": "markdown",
   "metadata": {},
   "source": [
    "# Nomarlization"
   ]
  },
  {
   "cell_type": "code",
   "execution_count": 2,
   "metadata": {},
   "outputs": [],
   "source": [
    "def normalize(data):\n",
    "\n",
    "    data_normalized = (data - min(data)) / (max(data) - min(data))\n",
    "\n",
    "    return(data_normalized)"
   ]
  },
  {
   "cell_type": "markdown",
   "metadata": {},
   "source": [
    "# Make label, image array with train data"
   ]
  },
  {
   "cell_type": "code",
   "execution_count": 3,
   "metadata": {},
   "outputs": [],
   "source": [
    "list_image  = np.empty((size_row * size_col, num_image), dtype=float)\n",
    "list_label  = np.empty(num_image, dtype=int)\n",
    "count = 0\n",
    "\n",
    "for line in data:\n",
    "\n",
    "    line_data   = line.split(',')\n",
    "    label       = line_data[0]\n",
    "    im_vector   = np.asfarray(line_data[1:])\n",
    "    im_vector   = normalize(im_vector)\n",
    "\n",
    "    list_label[count]       = label\n",
    "    list_image[:, count]    = im_vector    \n",
    "\n",
    "    count += 1"
   ]
  },
  {
   "cell_type": "markdown",
   "metadata": {},
   "source": [
    "# Make label, image array with test data"
   ]
  },
  {
   "cell_type": "code",
   "execution_count": 4,
   "metadata": {},
   "outputs": [],
   "source": [
    "test_list_image  = np.empty((size_row * size_col, test_num_image), dtype=float)\n",
    "test_list_label  = np.empty(test_num_image, dtype=int)\n",
    "test_count = 0\n",
    "\n",
    "for test_line in test_data:\n",
    "\n",
    "    test_line_data   = test_line.split(',')\n",
    "    test_label       = test_line_data[0]\n",
    "    test_im_vector   = np.asfarray(test_line_data[1:])\n",
    "    test_im_vector   = normalize(test_im_vector)\n",
    "\n",
    "    test_list_label[test_count]       = test_label\n",
    "    test_list_image[:, test_count]    = test_im_vector    \n",
    "\n",
    "    test_count += 1"
   ]
  },
  {
   "cell_type": "markdown",
   "metadata": {},
   "source": [
    "# Compute distance based on L2-norm (x, (0,0))"
   ]
  },
  {
   "cell_type": "markdown",
   "metadata": {},
   "source": [
    "$$||x-y||_{2} = \\sqrt{x^2 + y^2} $$"
   ]
  },
  {
   "cell_type": "code",
   "execution_count": 5,
   "metadata": {},
   "outputs": [],
   "source": [
    "def distance(x,y):\n",
    "    d = (x - y) ** 2\n",
    "    s = np.sum(d)\n",
    "    r = np.sqrt(s)\n",
    "    \n",
    "    return r"
   ]
  },
  {
   "cell_type": "markdown",
   "metadata": {},
   "source": [
    "# Initialize Label"
   ]
  },
  {
   "cell_type": "markdown",
   "metadata": {},
   "source": [
    "initialize all images with random label"
   ]
  },
  {
   "cell_type": "code",
   "execution_count": 6,
   "metadata": {},
   "outputs": [],
   "source": [
    "def initialLabel(list_image, cluster_num):\n",
    "    cluster_label = np.zeros(num_image, dtype=int)\n",
    "    for i in range(num_image):\n",
    "        initial_num = np.random.randint(0, cluster_num)\n",
    "        cluster_label[i] = initial_num\n",
    "        \n",
    "    return cluster_label"
   ]
  },
  {
   "cell_type": "markdown",
   "metadata": {},
   "source": [
    "# Initialize Centroid"
   ]
  },
  {
   "cell_type": "code",
   "execution_count": 7,
   "metadata": {},
   "outputs": [],
   "source": [
    "def initialCentroid(list_image, cluster_num, cluster_label, im_average, im_count):\n",
    "\n",
    "    for i in range(num_image):\n",
    "        im_average[:,cluster_label[i]] += list_image[:,i]\n",
    "        im_count[cluster_label[i]] += 1\n",
    "    \n",
    "    return im_average, im_count"
   ]
  },
  {
   "cell_type": "markdown",
   "metadata": {},
   "source": [
    "# Plot the Average Image"
   ]
  },
  {
   "cell_type": "code",
   "execution_count": 8,
   "metadata": {},
   "outputs": [],
   "source": [
    "def plot_average(im_average, im_count, cluster_num):\n",
    "    f1 = plt.figure(1)\n",
    "    \n",
    "    for i in range(cluster_num) :\n",
    "        im_average[:,i] /= im_count[i]\n",
    "        im_L2matrix = im_average[:,i].reshape((size_row,size_col))\n",
    "    \n",
    "        plt.subplot(cluster_num/5 ,5,i+1)\n",
    "        plt.title(\"C\" + str(i) )\n",
    "        plt.imshow(im_L2matrix, cmap='Greys', interpolation = 'None')\n",
    "    \n",
    "        frame = plt.gca()\n",
    "        frame.axes.get_xaxis().set_visible(False)\n",
    "        frame.axes.get_yaxis().set_visible(False)\n",
    "\n",
    "    plt.show()\n",
    "\n",
    "    return im_average"
   ]
  },
  {
   "cell_type": "markdown",
   "metadata": {},
   "source": [
    "# Clustering"
   ]
  },
  {
   "cell_type": "code",
   "execution_count": 9,
   "metadata": {},
   "outputs": [],
   "source": [
    "def clustering(list_image, num_image, cluster_label, cluster_num, im_average):\n",
    "    cluster_element = []\n",
    "    \n",
    "    for i in range(cluster_num):\n",
    "        cluster_element.append([])\n",
    "\n",
    "    for i in range(num_image):\n",
    "        dist = []\n",
    "        for j in range(cluster_num):\n",
    "            x = list_image[:, i]\n",
    "            y = im_average[:, j]\n",
    "            dist.append(distance(x, y))\n",
    "        cluster_label[i] = np.argmin(dist)\n",
    "        cluster_element[cluster_label[i]].append(i)\n",
    "    \n",
    "    return cluster_element, cluster_label"
   ]
  },
  {
   "cell_type": "markdown",
   "metadata": {},
   "source": [
    "# Compute Centroid"
   ]
  },
  {
   "cell_type": "markdown",
   "metadata": {},
   "source": [
    "$$C_{A} = \\frac{1}{n_{A}}\\Sigma x_{i}$$"
   ]
  },
  {
   "cell_type": "code",
   "execution_count": 10,
   "metadata": {},
   "outputs": [],
   "source": [
    "def computeCentroid(cluster_num, cluster_label):\n",
    "    num = np.zeros((cluster_num))\n",
    "    c = np.zeros((size_row*size_col, cluster_num))\n",
    "    \n",
    "    for i in range(num_image):\n",
    "        c[:,cluster_label[i]] += list_image[:,i]\n",
    "        num[cluster_label[i]] += 1 \n",
    "    \n",
    "    for i in range(cluster_num):\n",
    "        c[:,i] /= num[i]\n",
    "    \n",
    "    return c"
   ]
  },
  {
   "cell_type": "markdown",
   "metadata": {},
   "source": [
    "# Compute Engergy"
   ]
  },
  {
   "cell_type": "markdown",
   "metadata": {},
   "source": [
    "$$E = \\frac{1}{N}\\Sigma || x_{i} - c_{k} ||^2$$"
   ]
  },
  {
   "cell_type": "code",
   "execution_count": 11,
   "metadata": {},
   "outputs": [],
   "source": [
    "def computeEnergy(cluster_label, cluster_num, im_average, num_image, list_image):\n",
    "    total_sum = 0\n",
    "    for i in range(num_image):\n",
    "        total_sum += sum((im_average[:,cluster_label[i]]- list_image[:,i]) ** 2)\n",
    "    \n",
    "    total = total_sum / num_image\n",
    "    \n",
    "    return total"
   ]
  },
  {
   "cell_type": "markdown",
   "metadata": {},
   "source": [
    "# Compute Accuracy"
   ]
  },
  {
   "cell_type": "markdown",
   "metadata": {},
   "source": [
    "$$ A = \\frac{1}{N}\\Sigma count(x_{i}, c_{k})$$"
   ]
  },
  {
   "cell_type": "code",
   "execution_count": 12,
   "metadata": {},
   "outputs": [],
   "source": [
    "def computeAccuracy(cluster_elements, cluster_label, cluster_num, list_label, num_image):\n",
    "    total = 0\n",
    "    a = np.zeros(cluster_num,dtype = int)\n",
    "    \n",
    "    for i in range(cluster_num):\n",
    "        in_label = np.zeros(10, dtype = int)\n",
    "        for j in range(len(cluster_elements[i])):\n",
    "            in_label[list_label[cluster_elements[i][j]]] += 1\n",
    "        \n",
    "        a[i] = np.argmax(in_label)\n",
    "        total += in_label[a[i]]\n",
    "\n",
    "    total /= num_image\n",
    "    return total"
   ]
  },
  {
   "cell_type": "markdown",
   "metadata": {},
   "source": [
    "# Initialize Cluster"
   ]
  },
  {
   "cell_type": "code",
   "execution_count": 13,
   "metadata": {},
   "outputs": [],
   "source": [
    "def initialCluster(cluster_num):\n",
    "    im_average  = np.zeros((size_row * size_col, cluster_num), dtype=float)\n",
    "    im_count = np.zeros(cluster_num, dtype=int)\n",
    "\n",
    "    cluster_label = initialLabel(list_image, cluster_num)\n",
    "\n",
    "    im_average, im_count = initialCentroid(list_image, cluster_num, cluster_label,im_average, im_count)\n",
    "    im_average = plot_average(im_average, im_count, cluster_num)\n",
    "    \n",
    "    E.clear()\n",
    "    A.clear()\n",
    "    tA.clear()\n",
    "    \n",
    "    return im_average, im_count, cluster_label"
   ]
  },
  {
   "cell_type": "markdown",
   "metadata": {},
   "source": [
    "# Clustering until no change"
   ]
  },
  {
   "cell_type": "code",
   "execution_count": 19,
   "metadata": {},
   "outputs": [],
   "source": [
    "def iteration(cluster_num, im_average, im_count, cluster_label):\n",
    "    iter_num = 0\n",
    "    while True:\n",
    "        cluster_element, cluster_label = clustering(list_image, num_image, cluster_label, cluster_num, im_average)\n",
    "        t_cluster_element, t_cluster_label = clustering(test_list_image, test_num_image, cluster_label, cluster_num, im_average)\n",
    "        \n",
    "        im_average = computeCentroid(cluster_num, cluster_label)\n",
    "        E.append(computeEnergy(cluster_label, cluster_num, im_average,num_image, list_image))\n",
    "        A.append(computeAccuracy(cluster_element, cluster_label, cluster_num, list_label, num_image))\n",
    "        tA.append(computeAccuracy(t_cluster_element, t_cluster_label, cluster_num, test_list_label, test_num_image))\n",
    "    \n",
    "        \n",
    "        if iter_num >= 1 :\n",
    "            print(E[iter_num-1] - E[iter_num])\n",
    "            if E[iter_num -1] - E[iter_num] < 0.0005:\n",
    "                break\n",
    "        iter_num += 1\n",
    "\n",
    "    plot_average(im_average, im_count, cluster_num)\n",
    "    return iter_num"
   ]
  },
  {
   "cell_type": "markdown",
   "metadata": {},
   "source": [
    "# Energy graph per each iteration"
   ]
  },
  {
   "cell_type": "code",
   "execution_count": 15,
   "metadata": {},
   "outputs": [],
   "source": [
    "def drawEnergy(iter_num):\n",
    "    plt.figure(3)\n",
    "    x_range = np.arange(iter_num+1)\n",
    "    plt.plot(x_range, E, \"g\")\n",
    "    plt.title(\"Energy\")\n",
    "    plt.grid(True)\n",
    "    plt.show()"
   ]
  },
  {
   "cell_type": "markdown",
   "metadata": {},
   "source": [
    "# Accuracy graph per each iteration"
   ]
  },
  {
   "cell_type": "code",
   "execution_count": 16,
   "metadata": {},
   "outputs": [],
   "source": [
    "def drawAccuracy(iter_num, A,name):\n",
    "    plt.figure(4)\n",
    "    x_range = np.arange(iter_num+1)\n",
    "    plt.plot(x_range, A, \"r\")\n",
    "    plt.title(\"accuracy - \" + str(name))\n",
    "    plt.grid(True)\n",
    "    plt.show()"
   ]
  },
  {
   "cell_type": "markdown",
   "metadata": {},
   "source": [
    "# K = 5"
   ]
  },
  {
   "cell_type": "markdown",
   "metadata": {},
   "source": [
    "## Initial average image"
   ]
  },
  {
   "cell_type": "code",
   "execution_count": 20,
   "metadata": {},
   "outputs": [
    {
     "data": {
      "image/png": "[encoded data removed]",
      "text/plain": [
       "<Figure size 432x288 with 5 Axes>"
      ]
     },
     "metadata": {},
     "output_type": "display_data"
    }
   ],
   "source": [
    "im_average, im_count, cluster_label = initialCluster(5)"
   ]
  },
  {
   "cell_type": "markdown",
   "metadata": {},
   "source": [
    "## Final average image"
   ]
  },
  {
   "cell_type": "code",
   "execution_count": 21,
   "metadata": {},
   "outputs": [
    {
     "name": "stdout",
     "output_type": "stream",
     "text": [
      "1.145558398904278\n",
      "0.2464158774118772\n",
      "0.1252792581936646\n",
      "0.13602943871838846\n",
      "0.14964232602109462\n",
      "0.1164372752277032\n",
      "0.07176517931201687\n",
      "0.03153130377040014\n",
      "0.021787026646357788\n",
      "0.01828603846805521\n",
      "0.012694321722428015\n",
      "0.002587252274985019\n"
     ]
    },
    {
     "ename": "KeyboardInterrupt",
     "evalue": "",
     "output_type": "error",
     "traceback": [
      "\u001b[1;31m---------------------------------------------------------------------------\u001b[0m",
      "\u001b[1;31mKeyboardInterrupt\u001b[0m                         Traceback (most recent call last)",
      "\u001b[1;32m<ipython-input-21-ce6d1bbe8a79>\u001b[0m in \u001b[0;36m<module>\u001b[1;34m()\u001b[0m\n\u001b[1;32m----> 1\u001b[1;33m \u001b[0miter_num\u001b[0m \u001b[1;33m=\u001b[0m \u001b[0miteration\u001b[0m\u001b[1;33m(\u001b[0m\u001b[1;36m5\u001b[0m\u001b[1;33m,\u001b[0m\u001b[0mim_average\u001b[0m\u001b[1;33m,\u001b[0m \u001b[0mim_count\u001b[0m\u001b[1;33m,\u001b[0m \u001b[0mcluster_label\u001b[0m\u001b[1;33m)\u001b[0m\u001b[1;33m\u001b[0m\u001b[0m\n\u001b[0m",
      "\u001b[1;32m<ipython-input-19-2b5dbf3c3be4>\u001b[0m in \u001b[0;36miteration\u001b[1;34m(cluster_num, im_average, im_count, cluster_label)\u001b[0m\n\u001b[0;32m      6\u001b[0m \u001b[1;33m\u001b[0m\u001b[0m\n\u001b[0;32m      7\u001b[0m         \u001b[0mim_average\u001b[0m \u001b[1;33m=\u001b[0m \u001b[0mcomputeCentroid\u001b[0m\u001b[1;33m(\u001b[0m\u001b[0mcluster_num\u001b[0m\u001b[1;33m,\u001b[0m \u001b[0mcluster_label\u001b[0m\u001b[1;33m)\u001b[0m\u001b[1;33m\u001b[0m\u001b[0m\n\u001b[1;32m----> 8\u001b[1;33m         \u001b[0mE\u001b[0m\u001b[1;33m.\u001b[0m\u001b[0mappend\u001b[0m\u001b[1;33m(\u001b[0m\u001b[0mcomputeEnergy\u001b[0m\u001b[1;33m(\u001b[0m\u001b[0mcluster_label\u001b[0m\u001b[1;33m,\u001b[0m \u001b[0mcluster_num\u001b[0m\u001b[1;33m,\u001b[0m \u001b[0mim_average\u001b[0m\u001b[1;33m,\u001b[0m\u001b[0mnum_image\u001b[0m\u001b[1;33m,\u001b[0m \u001b[0mlist_image\u001b[0m\u001b[1;33m)\u001b[0m\u001b[1;33m)\u001b[0m\u001b[1;33m\u001b[0m\u001b[0m\n\u001b[0m\u001b[0;32m      9\u001b[0m         \u001b[0mA\u001b[0m\u001b[1;33m.\u001b[0m\u001b[0mappend\u001b[0m\u001b[1;33m(\u001b[0m\u001b[0mcomputeAccuracy\u001b[0m\u001b[1;33m(\u001b[0m\u001b[0mcluster_element\u001b[0m\u001b[1;33m,\u001b[0m \u001b[0mcluster_label\u001b[0m\u001b[1;33m,\u001b[0m \u001b[0mcluster_num\u001b[0m\u001b[1;33m,\u001b[0m \u001b[0mlist_label\u001b[0m\u001b[1;33m,\u001b[0m \u001b[0mnum_image\u001b[0m\u001b[1;33m)\u001b[0m\u001b[1;33m)\u001b[0m\u001b[1;33m\u001b[0m\u001b[0m\n\u001b[0;32m     10\u001b[0m         \u001b[0mtA\u001b[0m\u001b[1;33m.\u001b[0m\u001b[0mappend\u001b[0m\u001b[1;33m(\u001b[0m\u001b[0mcomputeAccuracy\u001b[0m\u001b[1;33m(\u001b[0m\u001b[0mt_cluster_element\u001b[0m\u001b[1;33m,\u001b[0m \u001b[0mt_cluster_label\u001b[0m\u001b[1;33m,\u001b[0m \u001b[0mcluster_num\u001b[0m\u001b[1;33m,\u001b[0m \u001b[0mtest_list_label\u001b[0m\u001b[1;33m,\u001b[0m \u001b[0mtest_num_image\u001b[0m\u001b[1;33m)\u001b[0m\u001b[1;33m)\u001b[0m\u001b[1;33m\u001b[0m\u001b[0m\n",
      "\u001b[1;32m<ipython-input-11-dbc9255aa254>\u001b[0m in \u001b[0;36mcomputeEnergy\u001b[1;34m(cluster_label, cluster_num, im_average, num_image, list_image)\u001b[0m\n\u001b[0;32m      2\u001b[0m     \u001b[0mtotal_sum\u001b[0m \u001b[1;33m=\u001b[0m \u001b[1;36m0\u001b[0m\u001b[1;33m\u001b[0m\u001b[0m\n\u001b[0;32m      3\u001b[0m     \u001b[1;32mfor\u001b[0m \u001b[0mi\u001b[0m \u001b[1;32min\u001b[0m \u001b[0mrange\u001b[0m\u001b[1;33m(\u001b[0m\u001b[0mnum_image\u001b[0m\u001b[1;33m)\u001b[0m\u001b[1;33m:\u001b[0m\u001b[1;33m\u001b[0m\u001b[0m\n\u001b[1;32m----> 4\u001b[1;33m         \u001b[0mtotal_sum\u001b[0m \u001b[1;33m+=\u001b[0m \u001b[0msum\u001b[0m\u001b[1;33m(\u001b[0m\u001b[1;33m(\u001b[0m\u001b[0mim_average\u001b[0m\u001b[1;33m[\u001b[0m\u001b[1;33m:\u001b[0m\u001b[1;33m,\u001b[0m\u001b[0mcluster_label\u001b[0m\u001b[1;33m[\u001b[0m\u001b[0mi\u001b[0m\u001b[1;33m]\u001b[0m\u001b[1;33m]\u001b[0m\u001b[1;33m-\u001b[0m \u001b[0mlist_image\u001b[0m\u001b[1;33m[\u001b[0m\u001b[1;33m:\u001b[0m\u001b[1;33m,\u001b[0m\u001b[0mi\u001b[0m\u001b[1;33m]\u001b[0m\u001b[1;33m)\u001b[0m \u001b[1;33m**\u001b[0m \u001b[1;36m2\u001b[0m\u001b[1;33m)\u001b[0m\u001b[1;33m\u001b[0m\u001b[0m\n\u001b[0m\u001b[0;32m      5\u001b[0m \u001b[1;33m\u001b[0m\u001b[0m\n\u001b[0;32m      6\u001b[0m     \u001b[0mtotal\u001b[0m \u001b[1;33m=\u001b[0m \u001b[0mtotal_sum\u001b[0m \u001b[1;33m/\u001b[0m \u001b[0mnum_image\u001b[0m\u001b[1;33m\u001b[0m\u001b[0m\n",
      "\u001b[1;31mKeyboardInterrupt\u001b[0m: "
     ]
    }
   ],
   "source": [
    "iter_num = iteration(5,im_average, im_count, cluster_label)"
   ]
  },
  {
   "cell_type": "markdown",
   "metadata": {},
   "source": [
    "## Energy, Accuracy graphs"
   ]
  },
  {
   "cell_type": "code",
   "execution_count": null,
   "metadata": {},
   "outputs": [],
   "source": [
    "drawEnergy(iter_num)\n",
    "drawAccuracy(iter_num,A,\"train\")\n",
    "drawAccuracy(iter_num,tA,\"test\")"
   ]
  },
  {
   "cell_type": "markdown",
   "metadata": {},
   "source": [
    "# K = 10"
   ]
  },
  {
   "cell_type": "markdown",
   "metadata": {},
   "source": [
    "## Initial average image"
   ]
  },
  {
   "cell_type": "code",
   "execution_count": 23,
   "metadata": {},
   "outputs": [
    {
     "data": {
      "image/png": "[encoded data removed]",
      "text/plain": [
       "<Figure size 432x288 with 10 Axes>"
      ]
     },
     "metadata": {},
     "output_type": "display_data"
    }
   ],
   "source": [
    "im_average, im_count, cluster_label = initialCluster(10)"
   ]
  },
  {
   "cell_type": "markdown",
   "metadata": {},
   "source": [
    "## Final average image"
   ]
  },
  {
   "cell_type": "code",
   "execution_count": 24,
   "metadata": {},
   "outputs": [
    {
     "ename": "KeyboardInterrupt",
     "evalue": "",
     "output_type": "error",
     "traceback": [
      "\u001b[1;31m---------------------------------------------------------------------------\u001b[0m",
      "\u001b[1;31mAttributeError\u001b[0m                            Traceback (most recent call last)",
      "\u001b[1;32m~\\Anaconda3\\lib\\site-packages\\numpy\\core\\fromnumeric.py\u001b[0m in \u001b[0;36m_wrapfunc\u001b[1;34m(obj, method, *args, **kwds)\u001b[0m\n\u001b[0;32m     51\u001b[0m     \u001b[1;32mtry\u001b[0m\u001b[1;33m:\u001b[0m\u001b[1;33m\u001b[0m\u001b[0m\n\u001b[1;32m---> 52\u001b[1;33m         \u001b[1;32mreturn\u001b[0m \u001b[0mgetattr\u001b[0m\u001b[1;33m(\u001b[0m\u001b[0mobj\u001b[0m\u001b[1;33m,\u001b[0m \u001b[0mmethod\u001b[0m\u001b[1;33m)\u001b[0m\u001b[1;33m(\u001b[0m\u001b[1;33m*\u001b[0m\u001b[0margs\u001b[0m\u001b[1;33m,\u001b[0m \u001b[1;33m**\u001b[0m\u001b[0mkwds\u001b[0m\u001b[1;33m)\u001b[0m\u001b[1;33m\u001b[0m\u001b[0m\n\u001b[0m\u001b[0;32m     53\u001b[0m \u001b[1;33m\u001b[0m\u001b[0m\n",
      "\u001b[1;31mAttributeError\u001b[0m: 'list' object has no attribute 'argmin'",
      "\nDuring handling of the above exception, another exception occurred:\n",
      "\u001b[1;31mKeyboardInterrupt\u001b[0m                         Traceback (most recent call last)",
      "\u001b[1;32m<ipython-input-24-107754dce963>\u001b[0m in \u001b[0;36m<module>\u001b[1;34m()\u001b[0m\n\u001b[1;32m----> 1\u001b[1;33m \u001b[0miter_num\u001b[0m \u001b[1;33m=\u001b[0m \u001b[0miteration\u001b[0m\u001b[1;33m(\u001b[0m\u001b[1;36m10\u001b[0m\u001b[1;33m,\u001b[0m\u001b[0mim_average\u001b[0m\u001b[1;33m,\u001b[0m \u001b[0mim_count\u001b[0m\u001b[1;33m,\u001b[0m \u001b[0mcluster_label\u001b[0m\u001b[1;33m)\u001b[0m\u001b[1;33m\u001b[0m\u001b[0m\n\u001b[0m",
      "\u001b[1;32m<ipython-input-22-fe14fe97a814>\u001b[0m in \u001b[0;36miteration\u001b[1;34m(cluster_num, im_average, im_count, cluster_label)\u001b[0m\n\u001b[0;32m      2\u001b[0m     \u001b[0miter_num\u001b[0m \u001b[1;33m=\u001b[0m \u001b[1;36m0\u001b[0m\u001b[1;33m\u001b[0m\u001b[0m\n\u001b[0;32m      3\u001b[0m     \u001b[1;32mwhile\u001b[0m \u001b[1;32mTrue\u001b[0m\u001b[1;33m:\u001b[0m\u001b[1;33m\u001b[0m\u001b[0m\n\u001b[1;32m----> 4\u001b[1;33m         \u001b[0mcluster_element\u001b[0m\u001b[1;33m,\u001b[0m \u001b[0mcluster_label\u001b[0m \u001b[1;33m=\u001b[0m \u001b[0mclustering\u001b[0m\u001b[1;33m(\u001b[0m\u001b[0mlist_image\u001b[0m\u001b[1;33m,\u001b[0m \u001b[0mnum_image\u001b[0m\u001b[1;33m,\u001b[0m \u001b[0mcluster_label\u001b[0m\u001b[1;33m,\u001b[0m \u001b[0mcluster_num\u001b[0m\u001b[1;33m,\u001b[0m \u001b[0mim_average\u001b[0m\u001b[1;33m)\u001b[0m\u001b[1;33m\u001b[0m\u001b[0m\n\u001b[0m\u001b[0;32m      5\u001b[0m         \u001b[0mt_cluster_element\u001b[0m\u001b[1;33m,\u001b[0m \u001b[0mt_cluster_label\u001b[0m \u001b[1;33m=\u001b[0m \u001b[0mclustering\u001b[0m\u001b[1;33m(\u001b[0m\u001b[0mtest_list_image\u001b[0m\u001b[1;33m,\u001b[0m \u001b[0mtest_num_image\u001b[0m\u001b[1;33m,\u001b[0m \u001b[0mcluster_label\u001b[0m\u001b[1;33m,\u001b[0m \u001b[0mcluster_num\u001b[0m\u001b[1;33m,\u001b[0m \u001b[0mim_average\u001b[0m\u001b[1;33m)\u001b[0m\u001b[1;33m\u001b[0m\u001b[0m\n\u001b[0;32m      6\u001b[0m \u001b[1;33m\u001b[0m\u001b[0m\n",
      "\u001b[1;32m<ipython-input-9-365ccec48453>\u001b[0m in \u001b[0;36mclustering\u001b[1;34m(list_image, num_image, cluster_label, cluster_num, im_average)\u001b[0m\n\u001b[0;32m     11\u001b[0m             \u001b[0my\u001b[0m \u001b[1;33m=\u001b[0m \u001b[0mim_average\u001b[0m\u001b[1;33m[\u001b[0m\u001b[1;33m:\u001b[0m\u001b[1;33m,\u001b[0m \u001b[0mj\u001b[0m\u001b[1;33m]\u001b[0m\u001b[1;33m\u001b[0m\u001b[0m\n\u001b[0;32m     12\u001b[0m             \u001b[0mdist\u001b[0m\u001b[1;33m.\u001b[0m\u001b[0mappend\u001b[0m\u001b[1;33m(\u001b[0m\u001b[0mdistance\u001b[0m\u001b[1;33m(\u001b[0m\u001b[0mx\u001b[0m\u001b[1;33m,\u001b[0m \u001b[0my\u001b[0m\u001b[1;33m)\u001b[0m\u001b[1;33m)\u001b[0m\u001b[1;33m\u001b[0m\u001b[0m\n\u001b[1;32m---> 13\u001b[1;33m         \u001b[0mcluster_label\u001b[0m\u001b[1;33m[\u001b[0m\u001b[0mi\u001b[0m\u001b[1;33m]\u001b[0m \u001b[1;33m=\u001b[0m \u001b[0mnp\u001b[0m\u001b[1;33m.\u001b[0m\u001b[0margmin\u001b[0m\u001b[1;33m(\u001b[0m\u001b[0mdist\u001b[0m\u001b[1;33m)\u001b[0m\u001b[1;33m\u001b[0m\u001b[0m\n\u001b[0m\u001b[0;32m     14\u001b[0m         \u001b[0mcluster_element\u001b[0m\u001b[1;33m[\u001b[0m\u001b[0mcluster_label\u001b[0m\u001b[1;33m[\u001b[0m\u001b[0mi\u001b[0m\u001b[1;33m]\u001b[0m\u001b[1;33m]\u001b[0m\u001b[1;33m.\u001b[0m\u001b[0mappend\u001b[0m\u001b[1;33m(\u001b[0m\u001b[0mi\u001b[0m\u001b[1;33m)\u001b[0m\u001b[1;33m\u001b[0m\u001b[0m\n\u001b[0;32m     15\u001b[0m \u001b[1;33m\u001b[0m\u001b[0m\n",
      "\u001b[1;32m~\\Anaconda3\\lib\\site-packages\\numpy\\core\\fromnumeric.py\u001b[0m in \u001b[0;36margmin\u001b[1;34m(a, axis, out)\u001b[0m\n\u001b[0;32m   1066\u001b[0m \u001b[1;33m\u001b[0m\u001b[0m\n\u001b[0;32m   1067\u001b[0m     \"\"\"\n\u001b[1;32m-> 1068\u001b[1;33m     \u001b[1;32mreturn\u001b[0m \u001b[0m_wrapfunc\u001b[0m\u001b[1;33m(\u001b[0m\u001b[0ma\u001b[0m\u001b[1;33m,\u001b[0m \u001b[1;34m'argmin'\u001b[0m\u001b[1;33m,\u001b[0m \u001b[0maxis\u001b[0m\u001b[1;33m=\u001b[0m\u001b[0maxis\u001b[0m\u001b[1;33m,\u001b[0m \u001b[0mout\u001b[0m\u001b[1;33m=\u001b[0m\u001b[0mout\u001b[0m\u001b[1;33m)\u001b[0m\u001b[1;33m\u001b[0m\u001b[0m\n\u001b[0m\u001b[0;32m   1069\u001b[0m \u001b[1;33m\u001b[0m\u001b[0m\n\u001b[0;32m   1070\u001b[0m \u001b[1;33m\u001b[0m\u001b[0m\n",
      "\u001b[1;32m~\\Anaconda3\\lib\\site-packages\\numpy\\core\\fromnumeric.py\u001b[0m in \u001b[0;36m_wrapfunc\u001b[1;34m(obj, method, *args, **kwds)\u001b[0m\n\u001b[0;32m     60\u001b[0m     \u001b[1;31m# a downstream library like 'pandas'.\u001b[0m\u001b[1;33m\u001b[0m\u001b[1;33m\u001b[0m\u001b[0m\n\u001b[0;32m     61\u001b[0m     \u001b[1;32mexcept\u001b[0m \u001b[1;33m(\u001b[0m\u001b[0mAttributeError\u001b[0m\u001b[1;33m,\u001b[0m \u001b[0mTypeError\u001b[0m\u001b[1;33m)\u001b[0m\u001b[1;33m:\u001b[0m\u001b[1;33m\u001b[0m\u001b[0m\n\u001b[1;32m---> 62\u001b[1;33m         \u001b[1;32mreturn\u001b[0m \u001b[0m_wrapit\u001b[0m\u001b[1;33m(\u001b[0m\u001b[0mobj\u001b[0m\u001b[1;33m,\u001b[0m \u001b[0mmethod\u001b[0m\u001b[1;33m,\u001b[0m \u001b[1;33m*\u001b[0m\u001b[0margs\u001b[0m\u001b[1;33m,\u001b[0m \u001b[1;33m**\u001b[0m\u001b[0mkwds\u001b[0m\u001b[1;33m)\u001b[0m\u001b[1;33m\u001b[0m\u001b[0m\n\u001b[0m\u001b[0;32m     63\u001b[0m \u001b[1;33m\u001b[0m\u001b[0m\n\u001b[0;32m     64\u001b[0m \u001b[1;33m\u001b[0m\u001b[0m\n",
      "\u001b[1;32m~\\Anaconda3\\lib\\site-packages\\numpy\\core\\fromnumeric.py\u001b[0m in \u001b[0;36m_wrapit\u001b[1;34m(obj, method, *args, **kwds)\u001b[0m\n\u001b[0;32m     40\u001b[0m     \u001b[1;32mexcept\u001b[0m \u001b[0mAttributeError\u001b[0m\u001b[1;33m:\u001b[0m\u001b[1;33m\u001b[0m\u001b[0m\n\u001b[0;32m     41\u001b[0m         \u001b[0mwrap\u001b[0m \u001b[1;33m=\u001b[0m \u001b[1;32mNone\u001b[0m\u001b[1;33m\u001b[0m\u001b[0m\n\u001b[1;32m---> 42\u001b[1;33m     \u001b[0mresult\u001b[0m \u001b[1;33m=\u001b[0m \u001b[0mgetattr\u001b[0m\u001b[1;33m(\u001b[0m\u001b[0masarray\u001b[0m\u001b[1;33m(\u001b[0m\u001b[0mobj\u001b[0m\u001b[1;33m)\u001b[0m\u001b[1;33m,\u001b[0m \u001b[0mmethod\u001b[0m\u001b[1;33m)\u001b[0m\u001b[1;33m(\u001b[0m\u001b[1;33m*\u001b[0m\u001b[0margs\u001b[0m\u001b[1;33m,\u001b[0m \u001b[1;33m**\u001b[0m\u001b[0mkwds\u001b[0m\u001b[1;33m)\u001b[0m\u001b[1;33m\u001b[0m\u001b[0m\n\u001b[0m\u001b[0;32m     43\u001b[0m     \u001b[1;32mif\u001b[0m \u001b[0mwrap\u001b[0m\u001b[1;33m:\u001b[0m\u001b[1;33m\u001b[0m\u001b[0m\n\u001b[0;32m     44\u001b[0m         \u001b[1;32mif\u001b[0m \u001b[1;32mnot\u001b[0m \u001b[0misinstance\u001b[0m\u001b[1;33m(\u001b[0m\u001b[0mresult\u001b[0m\u001b[1;33m,\u001b[0m \u001b[0mmu\u001b[0m\u001b[1;33m.\u001b[0m\u001b[0mndarray\u001b[0m\u001b[1;33m)\u001b[0m\u001b[1;33m:\u001b[0m\u001b[1;33m\u001b[0m\u001b[0m\n",
      "\u001b[1;31mKeyboardInterrupt\u001b[0m: "
     ]
    }
   ],
   "source": [
    "iter_num = iteration(10,im_average, im_count, cluster_label)"
   ]
  },
  {
   "cell_type": "markdown",
   "metadata": {},
   "source": [
    "## Energy, Accuracy graphs"
   ]
  },
  {
   "cell_type": "code",
   "execution_count": null,
   "metadata": {},
   "outputs": [],
   "source": [
    "drawEnergy(iter_num)\n",
    "drawAccuracy(iter_num,A,\"train\")\n",
    "drawAccuracy(iter_num,tA,\"test\")"
   ]
  },
  {
   "cell_type": "markdown",
   "metadata": {},
   "source": [
    "# K = 15"
   ]
  },
  {
   "cell_type": "markdown",
   "metadata": {},
   "source": [
    "## Initial average image"
   ]
  },
  {
   "cell_type": "code",
   "execution_count": null,
   "metadata": {},
   "outputs": [],
   "source": [
    "im_average, im_count, cluster_label = initialCluster(15)"
   ]
  },
  {
   "cell_type": "markdown",
   "metadata": {},
   "source": [
    "## Final average image"
   ]
  },
  {
   "cell_type": "code",
   "execution_count": null,
   "metadata": {},
   "outputs": [],
   "source": [
    "iter_num = iteration(15,im_average, im_count, cluster_label)"
   ]
  },
  {
   "cell_type": "markdown",
   "metadata": {},
   "source": [
    "## Energy, Accuracy graphs"
   ]
  },
  {
   "cell_type": "code",
   "execution_count": null,
   "metadata": {},
   "outputs": [],
   "source": [
    "drawEnergy(iter_num)\n",
    "drawAccuracy(iter_num,A,\"train\")\n",
    "drawAccuracy(iter_num,tA,\"test\")"
   ]
  },
  {
   "cell_type": "markdown",
   "metadata": {},
   "source": [
    "# K = 20"
   ]
  },
  {
   "cell_type": "markdown",
   "metadata": {},
   "source": [
    "## Initial average image"
   ]
  },
  {
   "cell_type": "code",
   "execution_count": null,
   "metadata": {},
   "outputs": [],
   "source": [
    "im_average, im_count, cluster_label = initialCluster(20)"
   ]
  },
  {
   "cell_type": "markdown",
   "metadata": {},
   "source": [
    "## Final average image"
   ]
  },
  {
   "cell_type": "code",
   "execution_count": null,
   "metadata": {},
   "outputs": [],
   "source": [
    "iter_num = iteration(20,im_average, im_count, cluster_label)"
   ]
  },
  {
   "cell_type": "markdown",
   "metadata": {},
   "source": [
    "## Energy, Accuracy graphs"
   ]
  },
  {
   "cell_type": "code",
   "execution_count": null,
   "metadata": {},
   "outputs": [],
   "source": [
    "drawEnergy(iter_num)\n",
    "drawAccuracy(iter_num,A,\"train\")\n",
    "drawAccuracy(iter_num,tA,\"test\")"
   ]
  }
 ],
 "metadata": {
  "kernelspec": {
   "display_name": "Python 3",
   "language": "python",
   "name": "python3"
  },
  "language_info": {
   "codemirror_mode": {
    "name": "ipython",
    "version": 3
   },
   "file_extension": ".py",
   "mimetype": "text/x-python",
   "name": "python",
   "nbconvert_exporter": "python",
   "pygments_lexer": "ipython3",
   "version": "3.6.5"
  }
 },
 "nbformat": 4,
 "nbformat_minor": 2
}
