{
 "cells": [
  {
   "cell_type": "markdown",
   "metadata": {},
   "source": [
    "**20164245 Hong Jin**"
   ]
  },
  {
   "cell_type": "markdown",
   "metadata": {},
   "source": [
    "Build a binary classifier to classify digit 0 against all the other digits at MNIST dataset.\n",
    "\n",
    "Let $x = (x_1, x_2, ... , x_m)$ be a vector representing an image in the dataset.\n",
    "\n",
    "The prediction function $f_w(x)$ is defined by the linear combination of data (1, x) and the model parameter w:\n",
    "$f_w(x) = w_0 * 1 + w_1 * x_1 + w_2 * x_2 + ... + w_m * x_m$ \n",
    "\n",
    "where $w = (w_0, w_1, ... , w_m)$\n",
    "\n",
    "The prediction function $f_w(x)$ should have the following values:\n",
    "\n",
    "$f_w(x) = +1$ if label(x) = 0\n",
    "\n",
    "$f_w(x) = -1$ if label(x) is not 0\n",
    "\n",
    "The optimal model parameter w is obtained by minimizing the following objective function:\n",
    "\n",
    "$\\sum_i ( f_w(x^(i)) - y^(i) )^2$\n",
    "\n",
    "1. Compute an optimal model parameter using the training dataset\n",
    "2. Compute (1) True Positive, (2) False Positive, (3) True Negative, (4) False Negative based on the computed optimal model parameter using (1) training dataset and (2) testing dataset."
   ]
  },
  {
   "cell_type": "markdown",
   "metadata": {},
   "source": [
    "# Set up"
   ]
  },
  {
   "cell_type": "code",
   "execution_count": 1,
   "metadata": {},
   "outputs": [],
   "source": [
    "import numpy as np\n",
    "import matplotlib.pyplot as plt\n",
    "from pandas import Series, DataFrame\n",
    "import pandas as pd\n",
    "\n",
    "file_data = \"mnist_train.csv\"\n",
    "handle_file = open(file_data, \"r\")\n",
    "data = handle_file.readlines()\n",
    "handle_file.close()\n",
    "\n",
    "test_file_data = \"mnist_test.csv\"\n",
    "test_handle_file = open(test_file_data, \"r\")\n",
    "test_data = test_handle_file.readlines()\n",
    "test_handle_file.close()\n",
    "\n",
    "size_row = 28\n",
    "size_col = 28\n",
    "dim = size_col * size_row\n",
    "\n",
    "num_image = len(data)\n",
    "test_num_image = len(test_data)"
   ]
  },
  {
   "cell_type": "markdown",
   "metadata": {},
   "source": [
    "# Normalization"
   ]
  },
  {
   "cell_type": "code",
   "execution_count": 2,
   "metadata": {},
   "outputs": [],
   "source": [
    "def normalize(data):\n",
    "    data_normalized = (data-min(data)) / (max(data) - min(data))\n",
    "    return (data_normalized)"
   ]
  },
  {
   "cell_type": "markdown",
   "metadata": {},
   "source": [
    "# Functions"
   ]
  },
  {
   "cell_type": "code",
   "execution_count": 3,
   "metadata": {},
   "outputs": [],
   "source": [
    "def distance(x,y):\n",
    "    d = x - y\n",
    "    s = d ** 2\n",
    "    return s\n",
    "    \n",
    "def check(M,val):\n",
    "    length = len(M)\n",
    "    res = np.zeros((length))\n",
    "    for i in range(length):\n",
    "        if(M[i] == val):\n",
    "            res[i] = 1\n",
    "        else:\n",
    "            res[i] = -1\n",
    "    return res\n",
    "\n",
    "def sign(x):\n",
    "    if(x>=0):\n",
    "        return 1\n",
    "    else:\n",
    "        return -1"
   ]
  },
  {
   "cell_type": "markdown",
   "metadata": {},
   "source": [
    "# Make label, image array with train, test data"
   ]
  },
  {
   "cell_type": "code",
   "execution_count": 4,
   "metadata": {},
   "outputs": [],
   "source": [
    "list_image = np.empty((size_row * size_col, num_image), dtype=float)\n",
    "list_label = np.empty(num_image, dtype=int)\n",
    "test_list_image = np.empty((size_row * size_col, test_num_image), dtype=float)\n",
    "test_list_label = np.empty(test_num_image, dtype=int)\n",
    "count = 0\n",
    "test_count = 0\n",
    "\n",
    "for line in data:\n",
    "    line_data = line.split(',')\n",
    "    label = line_data[0]\n",
    "    im_vector = np.asfarray(line_data[1:])\n",
    "    im_vector = normalize(im_vector)\n",
    "    \n",
    "    list_label[count] = label\n",
    "    list_image[:,count] = im_vector\n",
    "    \n",
    "    count += 1\n",
    "    \n",
    "for test_line in test_data:\n",
    "    test_line_data = test_line.split(',')\n",
    "    test_label = test_line_data[0]\n",
    "    test_im_vector = np.asfarray(test_line_data[1:])\n",
    "    test_im_vector = normalize(test_im_vector)\n",
    "    \n",
    "    test_list_label[test_count] = test_label\n",
    "    test_list_image[:,test_count] = test_im_vector\n",
    "    \n",
    "    test_count += 1\n"
   ]
  },
  {
   "cell_type": "markdown",
   "metadata": {},
   "source": [
    "# Define Matrix A"
   ]
  },
  {
   "cell_type": "markdown",
   "metadata": {},
   "source": [
    "$f_i(x) = x^{i-1}, i = 1, \\dots, p$\n",
    "\n",
    "$\\hat{f}(x) = \\theta_1 + \\theta_2 x + \\cdots  + \\theta_p x^{p-1}$\n",
    "\n",
    "$A = \\begin{bmatrix} 1 & x^{(1)} & \\cdots & (x^{(1)})^{p-1} \\\\ 1 & x^{(2)} & \\cdots & (x^{(2)})^{p-1} \\\\ \\vdots & \\vdots & & \\vdots \\\\ 1 & x^{(N)} & \\cdots & (x^{(N)})^{p-1}\\end{bmatrix}$\n",
    "\n",
    "($x^i$ means scalar $x$ to $i$th power; $x^{(i)}$ is $i$th data point)\n",
    "\n",
    "$\\theta = (A^T A)^{-1} A^T b$\n"
   ]
  },
  {
   "cell_type": "code",
   "execution_count": 5,
   "metadata": {},
   "outputs": [],
   "source": [
    "R = np.zeros((dim,dim))\n",
    "for i in range(dim):\n",
    "    R[i] = np.random.normal(0,1,size=dim)\n",
    "\n",
    "def defMatrix(x, p):\n",
    "    model = np.zeros((dim,dim))\n",
    "    for i in range(p):\n",
    "        model[i] = R[i]\n",
    "    return np.dot(model,x)"
   ]
  },
  {
   "cell_type": "markdown",
   "metadata": {},
   "source": [
    "# Compute an optimal model parameter using the training dataset"
   ]
  },
  {
   "cell_type": "code",
   "execution_count": 6,
   "metadata": {},
   "outputs": [],
   "source": [
    "scores = np.zeros(10)\n",
    "B = np.matrix(np.transpose(check(list_label,0)))   # (60000, 1)\n",
    "B_hat = check(list_label,0)\n",
    "B_hat_test = check(test_list_label,0)\n",
    "\n",
    "train_set = list_image[:54000]\n",
    "test_set = list_image[54000:]\n",
    "\n",
    "for j in range(10):\n",
    "    p = 2**j\n",
    "    feature = defMatrix(list_image, p)\n",
    "\n",
    "    index = np.where(~feature.any(axis=1))[0]\n",
    "    A = feature[~np.all(feature == 0, axis=1)]\n",
    "    A = np.matrix(np.transpose(A))\n",
    "\n",
    "    temp_theta = (A.T * A).I*A.T*B.T\n",
    "    \n",
    "    theta = np.zeros((size_col*size_row))\n",
    "    count_num = 0\n",
    "    \n",
    "    for i in range(dim):\n",
    "        if i not in index:\n",
    "            theta[i]=temp_theta[count_num]\n",
    "            count_num +=1\n",
    "            \n",
    "    nums = np.zeros((2,2))\n",
    "    dist = 0\n",
    "    min_num = 100000000\n",
    "    feature = defMatrix(list_image, p)\n",
    "    for i in range(count):\n",
    "        dist += distance(theta, feature[:,i])\n",
    "\n",
    "    for i in range(len(dist)):\n",
    "        if(dist[i]!=0):\n",
    "            if(dist[i] < min_num):\n",
    "                min_num = dist[i]\n",
    "    scores[j] = min_num\n",
    "m = 2**np.argmin(scores)"
   ]
  },
  {
   "cell_type": "markdown",
   "metadata": {},
   "source": [
    "# Plot Everage Image"
   ]
  },
  {
   "cell_type": "code",
   "execution_count": 7,
   "metadata": {},
   "outputs": [],
   "source": [
    "def plotImage(im_avg):\n",
    "    p1 = plt.subplot(2,2,1)\n",
    "    p1.imshow(im_avg[:,0].reshape((size_row, size_col)),cmap='gray')\n",
    "    p1.set_title(\"True Positive\")\n",
    "    p2 = plt.subplot(2,2,2)\n",
    "    p2.imshow(im_avg[:,1].reshape((size_row, size_col)),cmap='gray')\n",
    "    p2.set_title(\"False Positive\")\n",
    "    p3 = plt.subplot(2,2,3)\n",
    "    p3.imshow(im_avg[:,2].reshape((size_row, size_col)),cmap='gray')\n",
    "    p3.set_title(\"False Negative\")\n",
    "    p4 = plt.subplot(2,2,4)\n",
    "    p4.imshow(im_avg[:,3].reshape((size_row, size_col)),cmap='gray')\n",
    "    p4.set_title(\"True Negative\")\n",
    "    plt.subplots_adjust(hspace=1)"
   ]
  },
  {
   "cell_type": "markdown",
   "metadata": {},
   "source": [
    "# Compute Accuracy"
   ]
  },
  {
   "cell_type": "code",
   "execution_count": 8,
   "metadata": {},
   "outputs": [],
   "source": [
    "def computeAcc(image, counts, hat):\n",
    "    nums = np.zeros((2,2))\n",
    "    acc_num = 0\n",
    "    nacc_num = 0\n",
    "    im_avg = np.zeros((dim,4))\n",
    "    feature = defMatrix(image, m)\n",
    "    for i in range(counts):\n",
    "        if sign(theta.dot(feature[:,i])) == 1:\n",
    "            if(hat[i] == 1):\n",
    "                # True Positive\n",
    "                nums[0][0] += 1\n",
    "                im_avg[:,0] += image[:,i]\n",
    "                acc_num += 1\n",
    "            else:\n",
    "                # False Positive\n",
    "                nums[1][0] += 1\n",
    "                im_avg[:,1] += image[:,i]\n",
    "                nacc_num += 1\n",
    "        else:\n",
    "            if(hat[i] == 1):\n",
    "                # False Negative\n",
    "                nums[0][1] += 1\n",
    "                im_avg[:,2] += image[:,i]\n",
    "                acc_num += 1\n",
    "            else:\n",
    "                # True Negative\n",
    "                nums[1][1] += 1\n",
    "                im_avg[:,3] += image[:,i]\n",
    "                nacc_num += 1\n",
    "\n",
    "\n",
    "    im_avg[:,0] /= nums[0,0]\n",
    "    im_avg[:,1] /= nums[1,0]\n",
    "    im_avg[:,2] /= nums[0,1]\n",
    "    im_avg[:,3] /= nums[1,1]\n",
    "\n",
    "\n",
    "    plotImage(im_avg)\n",
    "\n",
    "    tp = nums[0,0] / acc_num\n",
    "    fp = nums[1,0] / nacc_num\n",
    "    tn = nums[1,1] / nacc_num\n",
    "    fn = nums[0,1] / acc_num\n",
    "    \n",
    "    data = {'True' : [tp, fp],\n",
    "            'False' : [fn, tn]}\n",
    "    frame = DataFrame(data, columns = ['True', 'False'], index = ['Positive', 'Negative'])\n",
    "    \n",
    "    \n",
    "    print(\"Tp = \" + str(tp) + \", count = \" + str(nums[0,0]))\n",
    "    print(\"Fp = \" + str(fp) + \", count = \" + str(nums[1,0]))\n",
    "    print(\"Fn = \" + str(fn) + \", count = \" + str(nums[0,1]))\n",
    "    print(\"Tn = \" + str(tn) + \", count = \" + str(nums[1,1]))\n",
    "    print(\"Zero = \" + str(tp+fn))\n",
    "    print(\"Not Zero = \" + str(fp + tn))"
   ]
  },
  {
   "cell_type": "markdown",
   "metadata": {},
   "source": [
    "# Compute (1) True Positive, (2) False Positive, (3) True Negative, (4) False Negative"
   ]
  },
  {
   "cell_type": "code",
   "execution_count": 9,
   "metadata": {},
   "outputs": [],
   "source": [
    "feature = defMatrix(list_image, m)\n",
    "index = np.where(~feature.any(axis=1))[0]\n",
    "A = feature[~np.all(feature == 0, axis=1)]\n",
    "A = np.matrix(np.transpose(A))\n",
    "B = np.matrix(np.transpose(check(list_label,0)))   # (60000, 1)\n",
    "\n",
    "temp_theta = (A.T * A).I*A.T*B.T\n",
    "theta = np.zeros((dim))\n",
    "count_num = 0\n",
    "\n",
    "for i in range(dim):\n",
    "    if i not in index:\n",
    "        theta[i]=temp_theta[count_num]\n",
    "        count_num +=1"
   ]
  },
  {
   "cell_type": "markdown",
   "metadata": {},
   "source": [
    "## Training set"
   ]
  },
  {
   "cell_type": "code",
   "execution_count": 10,
   "metadata": {},
   "outputs": [
    {
     "name": "stdout",
     "output_type": "stream",
     "text": [
      "Tp = 0.9025831504305251 count = 5346.0\n",
      "Fp = 0.006194870277567173 count = 335.0\n",
      "Fn = 0.09741684956947493 count = 577.0\n",
      "Tn = 0.9938051297224328 count = 53742.0\n",
      "Zero = 1.0\n",
      "Not Zero = 1.0\n"
     ]
    },
    {
     "data": {
      "image/png": "[encoded data removed]",
      "text/plain": [
       "<Figure size 432x288 with 4 Axes>"
      ]
     },
     "metadata": {},
     "output_type": "display_data"
    }
   ],
   "source": [
    "computeAcc(list_image, count, B_hat)"
   ]
  },
  {
   "cell_type": "markdown",
   "metadata": {},
   "source": [
    "## Test set"
   ]
  },
  {
   "cell_type": "code",
   "execution_count": 11,
   "metadata": {},
   "outputs": [
    {
     "name": "stdout",
     "output_type": "stream",
     "text": [
      "Tp = 0.9346938775510204 count = 916.0\n",
      "Fp = 0.0066518847006651885 count = 60.0\n",
      "Fn = 0.0653061224489796 count = 64.0\n",
      "Tn = 0.9933481152993349 count = 8960.0\n",
      "Zero = 1.0\n",
      "Not Zero = 1.0\n"
     ]
    },
    {
     "data": {
      "image/png": "[encoded data removed]",
      "text/plain": [
       "<Figure size 432x288 with 4 Axes>"
      ]
     },
     "metadata": {},
     "output_type": "display_data"
    }
   ],
   "source": [
    "computeAcc(test_list_image, test_count, B_hat_test)"
   ]
  }
 ],
 "metadata": {
  "kernelspec": {
   "display_name": "Python 3",
   "language": "python",
   "name": "python3"
  },
  "language_info": {
   "codemirror_mode": {
    "name": "ipython",
    "version": 3
   },
   "file_extension": ".py",
   "mimetype": "text/x-python",
   "name": "python",
   "nbconvert_exporter": "python",
   "pygments_lexer": "ipython3",
   "version": "3.6.5"
  }
 },
 "nbformat": 4,
 "nbformat_minor": 2
}
